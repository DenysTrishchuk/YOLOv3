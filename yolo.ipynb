{
 "cells": [
  {
   "cell_type": "markdown",
   "metadata": {},
   "source": [
    "\n",
    "# <center> YOLO"
   ]
  },
  {
   "cell_type": "markdown",
   "metadata": {},
   "source": [
    "## 1. Importing Libraries"
   ]
  },
  {
   "cell_type": "code",
   "execution_count": 1,
   "metadata": {
    "executionInfo": {
     "elapsed": 2914,
     "status": "ok",
     "timestamp": 1613119843576,
     "user": {
      "displayName": "Googler ML",
      "photoUrl": "",
      "userId": "17668753583957108351"
     },
     "user_tz": -120
    },
    "id": "TncCw_FmIrVu"
   },
   "outputs": [],
   "source": [
    "import numpy as np\n",
    "import cv2 as cv"
   ]
  },
  {
   "cell_type": "markdown",
   "metadata": {},
   "source": [
    "## 2. Class YOLO "
   ]
  },
  {
   "cell_type": "code",
   "execution_count": 2,
   "metadata": {
    "executionInfo": {
     "elapsed": 753,
     "status": "ok",
     "timestamp": 1613119843789,
     "user": {
      "displayName": "Googler ML",
      "photoUrl": "",
      "userId": "17668753583957108351"
     },
     "user_tz": -120
    },
    "id": "dAQSn5jQfkmD"
   },
   "outputs": [],
   "source": [
    "class YOLO:\n",
    "    def __init__(self, model, conf_threshold, iou_threshold, classes, colors):\n",
    "        self.model = model\n",
    "        self.conf_threshold = conf_threshold\n",
    "        self.iou_threshold = iou_threshold\n",
    "        self.classes = classes\n",
    "        self.colors = colors\n",
    "        \n",
    "        if cv.cuda.getCudaEnabledDeviceCount():\n",
    "            self.model.setPreferableBackend(cv.dnn.DNN_BACKEND_CUDA)\n",
    "            self.model.setPreferableTarget(cv.dnn.DNN_TARGET_CUDA)\n",
    "    \n",
    "    def get_output_layers(self):\n",
    "        layer_names = self.model.getLayerNames()\n",
    "        output_layers = [layer_names[i[0] - 1] for i in self.model.getUnconnectedOutLayers()]\n",
    "        return output_layers\n",
    "\n",
    "    def extract(self, outputs, height, width):\n",
    "        boxes = []\n",
    "        confidences = []\n",
    "        class_ids = []\n",
    "\n",
    "        for output in outputs:\n",
    "            for detection in output:            \n",
    "                probs = detection[5:]\n",
    "                class_id = np.argmax(probs)\n",
    "                confidence = probs[class_id]\n",
    "                \n",
    "                if confidence > self.conf_threshold:\n",
    "                    box = detection[:4] * np.array([width, height, width, height])\n",
    "                    center_x, center_y, w, h = box.astype('int')\n",
    "\n",
    "                    x = int(center_x - (w / 2))\n",
    "                    y = int(center_y - (h / 2))\n",
    "                    \n",
    "                    boxes.append([x, y, int(w), int(h)])\n",
    "                    confidences.append(float(confidence))\n",
    "                    class_ids.append(class_id)\n",
    "\n",
    "        return boxes, confidences, class_ids\n",
    "\n",
    "    def detect_in_image(self, image):\n",
    "        blob = cv.dnn.blobFromImage(image, 1 / 255, (416, 416), swapRB=True, crop=False)\n",
    "        self.model.setInput(blob)\n",
    "        outputs = self.model.forward(self.get_output_layers())\n",
    "        \n",
    "        height, width = image.shape[:2]\n",
    "        boxes, confidences, class_ids = self.extract(outputs, height, width)\n",
    "        indices = cv.dnn.NMSBoxes(boxes, confidences, self.conf_threshold, self.iou_threshold)\n",
    "        \n",
    "        if len(indices) > 0:\n",
    "            indices = indices.flatten()\n",
    "            boxes = np.array(boxes)[indices]\n",
    "            confidences = np.array(confidences)[indices]\n",
    "            class_ids = np.array(class_ids)[indices]\n",
    "        else:\n",
    "            print(\"Object isn't detected\")\n",
    "            return\n",
    "\n",
    "        return np.array([(*boxes[idx], confidences[idx], class_ids[idx]) for idx in range(len(class_ids))], dtype='object')\n",
    "\n",
    "    def detect_in_video(self, cap, output=None, show=False, title='Title'):\n",
    "        while cap.isOpened():\n",
    "            ret, image = cap.read()\n",
    "            if not ret:\n",
    "                break\n",
    "\n",
    "            preds = self.detect_in_image(image)\n",
    "            if np.all(preds != None):\n",
    "                image = self.bounding_box(image, preds)\n",
    "        \n",
    "            if output:\n",
    "                output.write(image)\n",
    "            if show:\n",
    "                cv.imshow(title, image)\n",
    "                if cv.waitKey(1) & 0xFF == ord('q'):\n",
    "                    break\n",
    "            \n",
    "        cap.release()\n",
    "        if output:\n",
    "            output.release()\n",
    "        cv.destroyAllWindows()\n",
    "    \n",
    "    def bounding_box(self, image, preds):\n",
    "        for pred in preds:\n",
    "            x, y, w, h, prob, class_id = pred\n",
    "            color = [int(c) for c in self.colors[class_id]]  \n",
    "            \n",
    "            cv.rectangle(image, (x, y), (x + w, y + h), color, 4)\n",
    "            text = f'{self.classes[class_id]}: {prob:.3f}'\n",
    "            cv.putText(image, text, (x, y - 5), cv.FONT_HERSHEY_SIMPLEX, 2, color, 4)\n",
    "    \n",
    "        return image\n",
    "    \n",
    "    @staticmethod\n",
    "    def show_video(path, title='Title'):\n",
    "        cap = cv.VideoCapture(path)\n",
    "        while cap.isOpened():\n",
    "            ret, image = cap.read()\n",
    "            if not ret:\n",
    "                break\n",
    "\n",
    "            cv.imshow(title, image)\n",
    "            if cv.waitKey(1) & 0xFF == ord('q'):\n",
    "                break\n",
    "            \n",
    "        cap.release()\n",
    "        cv.destroyAllWindows()\n",
    "\n",
    "    @staticmethod\n",
    "    def save_video(cap, path):\n",
    "        width = int(cap.get(3))\n",
    "        height = int(cap.get(4))\n",
    "        fps = int(cap.get(cv.CAP_PROP_FPS))\n",
    "        output = cv.VideoWriter(path, cv.VideoWriter_fourcc(*'MJPG'), fps, (width, height))\n",
    "\n",
    "        return output\n",
    "    \n",
    "    @staticmethod\n",
    "    def show_image(image, title='Title'):\n",
    "        cv.imshow(title, image)\n",
    "        cv.waitKey(0)\n",
    "        cv.destroyAllWindows()\n",
    "\n",
    "    @staticmethod\n",
    "    def save_image(path, image):\n",
    "        cv.imwrite(path, image)"
   ]
  },
  {
   "cell_type": "code",
   "execution_count": 3,
   "metadata": {
    "executionInfo": {
     "elapsed": 11912,
     "status": "ok",
     "timestamp": 1613119856439,
     "user": {
      "displayName": "Googler ML",
      "photoUrl": "",
      "userId": "17668753583957108351"
     },
     "user_tz": -120
    },
    "id": "HEG5Ki5QfkzY"
   },
   "outputs": [],
   "source": [
    "cfg_path = 'model/yolov3.cfg'\n",
    "weights_path = 'model/yolov3.weights'\n",
    "names_path = 'model/coco.names'\n",
    "\n",
    "with open(names_path, 'r') as f:\n",
    "    classes = f.read().split('\\n')\n",
    "colors = np.random.randint(0, 255, size=(len(classes), 3), dtype='uint8')\n",
    "\n",
    "model = cv.dnn.readNetFromDarknet(cfg_path, weights_path)"
   ]
  },
  {
   "cell_type": "markdown",
   "metadata": {
    "id": "IJRe-ZKoIxkw"
   },
   "source": [
    "## 3. Object Detection in Image"
   ]
  },
  {
   "cell_type": "code",
   "execution_count": 4,
   "metadata": {},
   "outputs": [],
   "source": [
    "CONFIDENCE_THRESHOLD = 0.7\n",
    "IOU_THRESHOLD = 0.4\n",
    "\n",
    "yolo = YOLO(model, CONFIDENCE_THRESHOLD, IOU_THRESHOLD, classes, colors)"
   ]
  },
  {
   "cell_type": "code",
   "execution_count": 5,
   "metadata": {
    "id": "cFxKV7sO8Z9Z"
   },
   "outputs": [],
   "source": [
    "input_images_path = 'inputs/images/'\n",
    "output_images_path = 'outputs/images/'\n",
    "image_name = 'tesla.jpg'"
   ]
  },
  {
   "cell_type": "code",
   "execution_count": 6,
   "metadata": {
    "colab": {
     "base_uri": "https://localhost:8080/",
     "height": 269
    },
    "executionInfo": {
     "elapsed": 2185,
     "status": "ok",
     "timestamp": 1613047697267,
     "user": {
      "displayName": "Googler ML",
      "photoUrl": "",
      "userId": "17668753583957108351"
     },
     "user_tz": -120
    },
    "id": "r73sFIVB7TEF",
    "outputId": "f678b392-17d5-4845-d5eb-fe9cf1159bd5"
   },
   "outputs": [],
   "source": [
    "image = cv.imread(f'{input_images_path}{image_name}')\n",
    "preds = yolo.detect_in_image(image)\n",
    "image = yolo.bounding_box(image, preds)\n",
    "yolo.save_image(f'{output_images_path}{image_name}', image)"
   ]
  },
  {
   "cell_type": "code",
   "execution_count": 7,
   "metadata": {},
   "outputs": [],
   "source": [
    "yolo.show_image(image)"
   ]
  },
  {
   "cell_type": "markdown",
   "metadata": {
    "id": "pj1ViHMjIoaA"
   },
   "source": [
    "## 4. Object Detection in Video"
   ]
  },
  {
   "cell_type": "code",
   "execution_count": 8,
   "metadata": {},
   "outputs": [],
   "source": [
    "CONFIDENCE_THRESHOLD = 0.7\n",
    "IOU_THRESHOLD = 0.4\n",
    "\n",
    "yolo = YOLO(model, CONFIDENCE_THRESHOLD, IOU_THRESHOLD, classes, colors)"
   ]
  },
  {
   "cell_type": "code",
   "execution_count": 9,
   "metadata": {
    "executionInfo": {
     "elapsed": 12074,
     "status": "ok",
     "timestamp": 1613119858905,
     "user": {
      "displayName": "Googler ML",
      "photoUrl": "",
      "userId": "17668753583957108351"
     },
     "user_tz": -120
    },
    "id": "09OBs7asI3pU"
   },
   "outputs": [],
   "source": [
    "input_videos_path = 'inputs/videos/'\n",
    "output_videos_path = 'outputs/videos/'\n",
    "video_name = 'gopro1.mp4'"
   ]
  },
  {
   "cell_type": "code",
   "execution_count": 10,
   "metadata": {
    "executionInfo": {
     "elapsed": 415,
     "status": "ok",
     "timestamp": 1613119889290,
     "user": {
      "displayName": "Googler ML",
      "photoUrl": "",
      "userId": "17668753583957108351"
     },
     "user_tz": -120
    },
    "id": "7idNAQYuQ7CU",
    "scrolled": true
   },
   "outputs": [],
   "source": [
    "cap = cv.VideoCapture(f'{input_videos_path}{video_name}')\n",
    "output = yolo.save_video(cap, f\"{output_videos_path}{video_name.rsplit('.', 1)[0] + '.avi'}\")\n",
    "yolo.detect_in_video(cap, output)"
   ]
  },
  {
   "cell_type": "code",
   "execution_count": 11,
   "metadata": {},
   "outputs": [],
   "source": [
    "yolo.show_video(f\"{input_videos_path}{video_name.rsplit('.', 1)[0] + '.avi'}\")"
   ]
  },
  {
   "cell_type": "markdown",
   "metadata": {},
   "source": [
    "## 5. Object Detection in Real-Time"
   ]
  },
  {
   "cell_type": "code",
   "execution_count": 12,
   "metadata": {},
   "outputs": [],
   "source": [
    "CONFIDENCE_THRESHOLD = 0.7\n",
    "IOU_THRESHOLD = 0.4\n",
    "\n",
    "yolo = YOLO(model, CONFIDENCE_THRESHOLD, IOU_THRESHOLD, classes, colors)"
   ]
  },
  {
   "cell_type": "code",
   "execution_count": 13,
   "metadata": {
    "scrolled": true
   },
   "outputs": [],
   "source": [
    "output_videos_path = 'outputs/videos/'\n",
    "video_name = 'webcam.avi'"
   ]
  },
  {
   "cell_type": "code",
   "execution_count": 14,
   "metadata": {},
   "outputs": [],
   "source": [
    "cap = cv.VideoCapture(0)\n",
    "output = yolo.save_video(cap, f'{output_videos_path}{video_name}')\n",
    "yolo.detect_in_video(cap, output, show=True)"
   ]
  },
  {
   "cell_type": "code",
   "execution_count": 15,
   "metadata": {},
   "outputs": [],
   "source": [
    "yolo.show_video(f'{output_videos_path}{video_name}')"
   ]
  }
 ],
 "metadata": {
  "colab": {
   "authorship_tag": "ABX9TyPH/4wQj0UEBgs827mjv5D9",
   "collapsed_sections": [
    "IJRe-ZKoIxkw"
   ],
   "name": "Untitled0.ipynb",
   "provenance": []
  },
  "kernelspec": {
   "display_name": "Python 3",
   "language": "python",
   "name": "python3"
  },
  "language_info": {
   "codemirror_mode": {
    "name": "ipython",
    "version": 3
   },
   "file_extension": ".py",
   "mimetype": "text/x-python",
   "name": "python",
   "nbconvert_exporter": "python",
   "pygments_lexer": "ipython3",
   "version": "3.8.5"
  },
  "toc": {
   "base_numbering": 1,
   "nav_menu": {},
   "number_sections": true,
   "sideBar": true,
   "skip_h1_title": false,
   "title_cell": "Table of Contents",
   "title_sidebar": "Contents",
   "toc_cell": false,
   "toc_position": {},
   "toc_section_display": true,
   "toc_window_display": false
  }
 },
 "nbformat": 4,
 "nbformat_minor": 1
}
